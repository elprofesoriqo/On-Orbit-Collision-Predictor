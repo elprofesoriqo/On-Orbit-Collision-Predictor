{
 "cells": [
  {
   "metadata": {},
   "cell_type": "markdown",
   "source": "## Init\n",
   "id": "cd2b2d2f45f465da"
  },
  {
   "cell_type": "code",
   "execution_count": null,
   "id": "initial_id",
   "metadata": {
    "collapsed": true
   },
   "outputs": [],
   "source": [
    "import requests\n",
    "import pandas as pd\n",
    "import firebase_admin\n",
    "from firebase_admin import credentials, firestore\n",
    "import os\n",
    "from dotenv import load_dotenv\n",
    "\n",
    "load_dotenv()\n",
    "\n",
    "cred = credentials.Certificate(\"app/orbit-d8ec9-firebase-adminsdk-3mpgc-334631a536.json\")\n",
    "firebase_admin.initialize_app(cred)"
   ]
  },
  {
   "metadata": {},
   "cell_type": "markdown",
   "source": "",
   "id": "3eff92f233e5d638"
  },
  {
   "metadata": {},
   "cell_type": "markdown",
   "source": "## Celstark",
   "id": "d35801026d4a5d24"
  },
  {
   "metadata": {},
   "cell_type": "markdown",
   "source": "",
   "id": "8d8bdfa60da11305"
  },
  {
   "metadata": {},
   "cell_type": "code",
   "outputs": [],
   "execution_count": null,
   "source": [
    "def fetch_celestrak_data():\n",
    "    url = \"https://www.celestrak.com/NORAD/elements/active.txt\"\n",
    "    response = requests.get(url)\n",
    "    data = response.text\n",
    "    with open(\"data/celestrak_data.txt\", \"w\") as file:\n",
    "        file.write(data)\n",
    "    return data"
   ],
   "id": "280eba93c16f1c56"
  },
  {
   "metadata": {},
   "cell_type": "markdown",
   "source": "",
   "id": "b5e21faf9584418a"
  },
  {
   "metadata": {},
   "cell_type": "markdown",
   "source": "## Spacetrack\n",
   "id": "78d3288c4b1db6d7"
  },
  {
   "metadata": {},
   "cell_type": "code",
   "outputs": [],
   "execution_count": null,
   "source": [
    "def fetch_space_track_data():\n",
    "    username = os.getenv(\"SPACE_TRACK_USERNAME\")\n",
    "    password = os.getenv(\"SPACE_TRACK_PASSWORD\")\n",
    "\n",
    "    session = requests.Session()\n",
    "    session.auth = (username, password)\n",
    "\n",
    "    login_url = \"https://www.space-track.org/auth/login\"\n",
    "    response = session.post(login_url)\n",
    "\n",
    "    if response.status_code != 200:\n",
    "        print(\"Login failed\")\n",
    "        return None\n",
    "\n",
    "    data_url = \"https://www.space-track.org/your-data-endpoint\"\n",
    "    data_response = session.get(data_url)\n",
    "\n",
    "    if data_response.status_code != 200:\n",
    "        print(\"Failed to fetch data from Space-Track\")\n",
    "        return None\n",
    "\n",
    "    data = data_response.text\n",
    "    with open(\"data/space_track_data.txt\", \"w\") as file:\n",
    "        file.write(data)\n",
    "    return data"
   ],
   "id": "2be105d7e623139a"
  },
  {
   "metadata": {},
   "cell_type": "markdown",
   "source": "## Save",
   "id": "6d324dd1e044759c"
  },
  {
   "metadata": {},
   "cell_type": "markdown",
   "source": "",
   "id": "acfc723029ba401d"
  },
  {
   "metadata": {},
   "cell_type": "code",
   "outputs": [],
   "execution_count": null,
   "source": [
    "\n",
    "def save_to_firebase():\n",
    "    db = firestore.client()\n",
    "    celestrak_data = pd.read_csv(\"data/celestrak_data.txt\", sep=\"\\s+\", header=None)\n",
    "    celestrak_ref = db.collection(\"celestrak_data\")\n",
    "    for index, row in celestrak_data.iterrows():\n",
    "        celestrak_ref.add(row.to_dict())\n",
    "\n",
    "    space_track_data = pd.read_csv(\"data/space_track_data.txt\", sep=\"\\s+\", header=None)\n",
    "    space_track_ref = db.collection(\"space_track_data\")\n",
    "    for index, row in space_track_data.iterrows():\n",
    "        space_track_ref.add(row.to_dict())"
   ],
   "id": "cd2f2db2b96c5"
  }
 ],
 "metadata": {
  "kernelspec": {
   "display_name": "Python 3",
   "language": "python",
   "name": "python3"
  },
  "language_info": {
   "codemirror_mode": {
    "name": "ipython",
    "version": 2
   },
   "file_extension": ".py",
   "mimetype": "text/x-python",
   "name": "python",
   "nbconvert_exporter": "python",
   "pygments_lexer": "ipython2",
   "version": "2.7.6"
  }
 },
 "nbformat": 4,
 "nbformat_minor": 5
}
